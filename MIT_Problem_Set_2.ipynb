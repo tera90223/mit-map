{
  "nbformat": 4,
  "nbformat_minor": 0,
  "metadata": {
    "colab": {
      "provenance": [],
      "toc_visible": true,
      "mount_file_id": "1A5CXgPo1gsdVMdornJPZxwP5s8OU6yxe",
      "authorship_tag": "ABX9TyN6riqjcaqHYqAiD6I6bbCA",
      "include_colab_link": true
    },
    "kernelspec": {
      "name": "python3",
      "display_name": "Python 3"
    },
    "language_info": {
      "name": "python"
    }
  },
  "cells": [
    {
      "cell_type": "markdown",
      "metadata": {
        "id": "view-in-github",
        "colab_type": "text"
      },
      "source": [
        "<a href=\"https://colab.research.google.com/github/tera90223/mit-map/blob/main/MIT_Problem_Set_2.ipynb\" target=\"_parent\"><img src=\"https://colab.research.google.com/assets/colab-badge.svg\" alt=\"Open In Colab\"/></a>"
      ]
    },
    {
      "cell_type": "code",
      "execution_count": null,
      "metadata": {
        "colab": {
          "base_uri": "https://localhost:8080/"
        },
        "id": "FvADtJOvvWdp",
        "outputId": "e4af2a0a-0dfb-473f-ca0b-5cea464eddbc"
      },
      "outputs": [
        {
          "output_type": "stream",
          "name": "stdout",
          "text": [
            "Mounted at /content/drive\n"
          ]
        }
      ],
      "source": [
        "# Mount Google Drive to access problem set\n",
        "from google.colab import drive\n",
        "drive.mount('/content/drive')"
      ]
    },
    {
      "cell_type": "markdown",
      "source": [
        "# Problem Set 2: Finding shortest paths through MIT buildings"
      ],
      "metadata": {
        "id": "Zjk8sUcbSgxD"
      }
    },
    {
      "cell_type": "markdown",
      "source": [
        "## Graph Data Structures"
      ],
      "metadata": {
        "id": "QA86dvnsSqB8"
      }
    },
    {
      "cell_type": "code",
      "source": [
        "# 6.0002 Problem Set 5\n",
        "# Graph optimization\n",
        "# Name: Chantera Lazard\n",
        "# Time: 30 mins\n",
        "\n",
        "import unittest\n",
        "\n",
        "#\n",
        "# A set of data structures to represent graphs\n",
        "#\n",
        "\n",
        "class Node(object):\n",
        "    \"\"\"Represents a node in the graph\"\"\"\n",
        "    def __init__(self, name):\n",
        "        self.name = str(name)\n",
        "\n",
        "    def get_name(self):\n",
        "        return self.name\n",
        "\n",
        "    def __str__(self):\n",
        "        return self.name\n",
        "\n",
        "    def __repr__(self):\n",
        "        return self.name\n",
        "\n",
        "    def __eq__(self, other):\n",
        "        return self.name == other.name\n",
        "\n",
        "    def __ne__(self, other):\n",
        "        return not self.__eq__(other)\n",
        "\n",
        "    def __hash__(self):\n",
        "        # This function is necessary so that Nodes can be used as\n",
        "        # keys in a dictionary, even though Nodes are mutable\n",
        "        return self.name.__hash__()\n",
        "\n",
        "\n",
        "class Edge(object):\n",
        "    \"\"\"Represents an edge in the dictionary. Includes a source and\n",
        "    a destination.\"\"\"\n",
        "    def __init__(self, src, dest):\n",
        "        self.src = src\n",
        "        self.dest = dest\n",
        "\n",
        "    def get_source(self):\n",
        "        return self.src\n",
        "\n",
        "    def get_destination(self):\n",
        "        return self.dest\n",
        "\n",
        "    def __str__(self):\n",
        "        return '{}->{}'.format(self.src, self.dest)\n",
        "\n",
        "\n",
        "class WeightedEdge(Edge):\n",
        "    def __init__(self, src, dest, total_distance, outdoor_distance):\n",
        "        # DRY Principle\n",
        "        super().__init__(src, dest)\n",
        "        self.total_distance = total_distance\n",
        "        self.outdoor_distance = outdoor_distance\n",
        "\n",
        "    def get_total_distance(self):\n",
        "        return self.total_distance\n",
        "\n",
        "    def get_outdoor_distance(self):\n",
        "        return self.outdoor_distance\n",
        "\n",
        "    def __str__(self):\n",
        "        return '{}->{} ({}, {})'.format(self.src, self.dest, \\\n",
        "                                        self.total_distance, \\\n",
        "                                        self.outdoor_distance)\n",
        "\n",
        "\n",
        "class Digraph(object):\n",
        "    \"\"\"Represents a directed graph of Node and Edge objects\"\"\"\n",
        "    def __init__(self):\n",
        "        self.nodes = set([])\n",
        "        self.edges = {}  # must be a dict of Node -> list of edges\n",
        "\n",
        "    def __str__(self):\n",
        "        edge_strs = []\n",
        "        for edges in self.edges.values():\n",
        "            for edge in edges:\n",
        "                edge_strs.append(str(edge))\n",
        "        edge_strs = sorted(edge_strs)  # sort alphabetically\n",
        "        return '\\n'.join(edge_strs)  # concat edge_strs with \"\\n\"s between them\n",
        "\n",
        "    def get_edges_for_node(self, node):\n",
        "        return self.edges[node]\n",
        "\n",
        "    def has_node(self, node):\n",
        "        return node in self.nodes\n",
        "\n",
        "    def add_node(self, node):\n",
        "        \"\"\"Adds a Node object to the Digraph. Raises a ValueError if it is\n",
        "        already in the graph.\"\"\"\n",
        "        if self.has_node(node):\n",
        "            raise ValueError('Node already in graph')\n",
        "        else:\n",
        "            self.nodes.add(node)\n",
        "            self.edges[node] = []\n",
        "\n",
        "    def add_edge(self, edge):\n",
        "        \"\"\"Adds an Edge or WeightedEdge instance to the Digraph. Raises a\n",
        "        ValueError if either of the nodes associated with the edge is not\n",
        "        in the  graph.\"\"\"\n",
        "        src = edge.get_source()\n",
        "        dest = edge.get_destination()\n",
        "        if not(self.has_node(src) and self.has_node(dest)):\n",
        "            raise ValueError('Node not in graph')\n",
        "        self.edges[src].append(edge)\n"
      ],
      "metadata": {
        "id": "tZU2zezEwT-L"
      },
      "execution_count": 1,
      "outputs": []
    },
    {
      "cell_type": "code",
      "source": [
        "# ================================================================\n",
        "# Begin tests -- you do not need to modify anything below this line\n",
        "# ================================================================\n",
        "\n",
        "class TestGraph(unittest.TestCase):\n",
        "\n",
        "    def setUp(self):\n",
        "        self.g = Digraph()\n",
        "        self.na = Node('a')\n",
        "        self.nb = Node('b')\n",
        "        self.nc = Node('c')\n",
        "        self.g.add_node(self.na)\n",
        "        self.g.add_node(self.nb)\n",
        "        self.g.add_node(self.nc)\n",
        "        self.e1 = WeightedEdge(self.na, self.nb, 15, 10)\n",
        "        self.e2 = WeightedEdge(self.na, self.nc, 14, 6)\n",
        "        self.e3 = WeightedEdge(self.nb, self.nc, 3, 1)\n",
        "        self.g.add_edge(self.e1)\n",
        "        self.g.add_edge(self.e2)\n",
        "        self.g.add_edge(self.e3)\n",
        "\n",
        "    def test_weighted_edge_str(self):\n",
        "        self.assertEqual(str(self.e1), \"a->b (15, 10)\")\n",
        "        self.assertEqual(str(self.e2), \"a->c (14, 6)\")\n",
        "        self.assertEqual(str(self.e3), \"b->c (3, 1)\")\n",
        "\n",
        "    def test_weighted_edge_total_distance(self):\n",
        "        self.assertEqual(self.e1.get_total_distance(), 15)\n",
        "        self.assertEqual(self.e2.get_total_distance(), 14)\n",
        "        self.assertEqual(self.e3.get_total_distance(), 3)\n",
        "\n",
        "    def test_weighted_edge_outdoor_distance(self):\n",
        "        self.assertEqual(self.e1.get_outdoor_distance(), 10)\n",
        "        self.assertEqual(self.e2.get_outdoor_distance(), 6)\n",
        "        self.assertEqual(self.e3.get_outdoor_distance(), 1)\n",
        "\n",
        "    def test_add_edge_to_nonexistent_node_raises(self):\n",
        "        node_not_in_graph = Node('q')\n",
        "        no_src = WeightedEdge(self.nb, node_not_in_graph, 5, 5)\n",
        "        no_dest = WeightedEdge(node_not_in_graph, self.na, 5, 5)\n",
        "\n",
        "        with self.assertRaises(ValueError):\n",
        "            self.g.add_edge(no_src)\n",
        "        with self.assertRaises(ValueError):\n",
        "            self.g.add_edge(no_dest)\n",
        "\n",
        "    def test_add_existing_node_raises(self):\n",
        "        with self.assertRaises(ValueError):\n",
        "            self.g.add_node(self.na)\n",
        "\n",
        "    def test_graph_str(self):\n",
        "        expected = \"a->b (15, 10)\\na->c (14, 6)\\nb->c (3, 1)\"\n",
        "        self.assertEqual(str(self.g), expected)\n",
        "\n",
        "\n",
        "if __name__ == \"__main__\":\n",
        "    unittest.main(argv=[''], exit=False)"
      ],
      "metadata": {
        "colab": {
          "base_uri": "https://localhost:8080/"
        },
        "id": "rQPLHbkxS0gq",
        "outputId": "69a0f7a8-6567-4dad-895b-0f19c5345593"
      },
      "execution_count": 2,
      "outputs": [
        {
          "output_type": "stream",
          "name": "stderr",
          "text": [
            "......\n",
            "----------------------------------------------------------------------\n",
            "Ran 6 tests in 0.004s\n",
            "\n",
            "OK\n"
          ]
        }
      ]
    },
    {
      "cell_type": "markdown",
      "source": [
        "## Building the Campus Map\n",
        "\n",
        "\n"
      ],
      "metadata": {
        "id": "iWhUVRBVTI34"
      }
    },
    {
      "cell_type": "markdown",
      "source": [
        "## Designing Your Graph\n",
        "\n",
        "\n",
        "\n",
        "1.   What do the graph's nodes represent in this problem?\n",
        "  *   Nodes represent MIT buildings identified by a unique number.\n",
        "\n",
        "2.    What do the graph's edges represent?\n",
        "  *   Graph edge's represent a directed path between two buildings\n",
        "3.    Where are the distances represented?\n",
        "  *   Each edge stores two types of distance values:\n",
        "        1. Total Distance - the full length of the path between two buildings.\n",
        "        2. Outdoor Distance - the portion of that path which is outdoors.\n",
        "      \n",
        "      The outdoor distance is always less than or equal to the total distance.\n",
        "\n",
        "\n",
        "\n",
        "\n"
      ],
      "metadata": {
        "id": "mDhRxL4DkNXD"
      }
    },
    {
      "cell_type": "markdown",
      "source": [
        "### Implementing load_map"
      ],
      "metadata": {
        "id": "0_9mSSZiTaB9"
      }
    },
    {
      "cell_type": "code",
      "source": [
        "# 6.0002 Problem Set 5\n",
        "# Graph optimization\n",
        "# Name: Chantera Lazard\n",
        "# Time:\n",
        "\n",
        "from google.colab import userdata\n",
        "#\n",
        "# Problem 2: Building up the Campus Map\n",
        "#\n",
        "\n",
        "# Problem 2b: Implementing load_map\n",
        "def load_map(map_filename):\n",
        "    \"\"\"\n",
        "    Parses the map file and constructs a directed graph\n",
        "\n",
        "    Parameters:\n",
        "        map_filename : name of the map file\n",
        "\n",
        "    Assumes:\n",
        "        Each entry in the map file consists of the following four positive\n",
        "        integers, separated by a blank space:\n",
        "            From To TotalDistance DistanceOutdoors\n",
        "        e.g.\n",
        "            32 76 54 23\n",
        "        This entry would become an edge from 32 to 76.\n",
        "\n",
        "    Returns:\n",
        "        a Digraph representing the map\n",
        "    \"\"\"\n",
        "\n",
        "    print(\"Loading map from file...\")\n",
        "    # Create the Digraph Object\n",
        "    g = Digraph()\n",
        "\n",
        "    # Open the map file\n",
        "    with open(map_filename, 'r') as file:\n",
        "        for line in file:\n",
        "          #initialize the buildings and distances\n",
        "          src, dest, total_distance, outdoor_distance = line.split(' ')\n",
        "          total_distance = int(total_distance)\n",
        "          outdoor_distance = int(outdoor_distance)\n",
        "\n",
        "          # Create nodes if not already loaded in graph\n",
        "          if not g.has_node(Node(src)):\n",
        "            g.add_node(Node(src))\n",
        "          if not g.has_node(Node(dest)):\n",
        "            g.add_node(Node(dest))\n",
        "\n",
        "          # Create weighted edge and add it in graph\n",
        "          w_edge = WeightedEdge(Node(src), Node(dest), total_distance, outdoor_distance)\n",
        "          g.add_edge(w_edge)\n",
        "          print(\"adding edge....\", str(w_edge))\n",
        "\n",
        "    return g"
      ],
      "metadata": {
        "id": "mLd_GtGdl6Mm"
      },
      "execution_count": 4,
      "outputs": []
    },
    {
      "cell_type": "markdown",
      "source": [
        "### Testing load_map"
      ],
      "metadata": {
        "id": "m-LmCfHpTWC_"
      }
    },
    {
      "cell_type": "code",
      "source": [
        "# Problem 2c: Testing load_map\n",
        "# Test load_map with a test file\n",
        "load_map(userdata.get('test_load_map.txt'))\n"
      ],
      "metadata": {
        "colab": {
          "base_uri": "https://localhost:8080/"
        },
        "id": "YTiX7swDwSxf",
        "outputId": "3fc87281-79d3-4f80-ff12-b99f2fd5d23a"
      },
      "execution_count": 7,
      "outputs": [
        {
          "output_type": "stream",
          "name": "stdout",
          "text": [
            "Loading map from file...\n",
            "adding edge.... A->B (10, 9)\n",
            "adding edge.... A->C (12, 2)\n",
            "adding edge.... B->C (1, 1)\n"
          ]
        },
        {
          "output_type": "execute_result",
          "data": {
            "text/plain": [
              "<__main__.Digraph at 0x78f3a8cdd510>"
            ]
          },
          "metadata": {},
          "execution_count": 7
        }
      ]
    },
    {
      "cell_type": "markdown",
      "source": [
        "## Finding the Shortest Path Using Optimized Search Method"
      ],
      "metadata": {
        "id": "wrl-b2t7TfSF"
      }
    },
    {
      "cell_type": "markdown",
      "source": [
        "### Objective Function\n",
        "\n",
        "\n",
        "*   What is the objective function for this problem? What are the constraints?\n",
        "    *   Answer Here\n",
        "\n"
      ],
      "metadata": {
        "id": "OqDB4px1Tr3T"
      }
    },
    {
      "cell_type": "markdown",
      "source": [
        "### Implement get_best_path"
      ],
      "metadata": {
        "id": "byGCe5O3T-cf"
      }
    },
    {
      "cell_type": "code",
      "source": [
        "# Problem 3b: Implement get_best_path\n",
        "def get_best_path(digraph, start, end, path, max_dist_outdoors, best_dist,\n",
        "                  best_path):\n",
        "    \"\"\"\n",
        "    Finds the shortest path between buildings subject to constraints.\n",
        "\n",
        "    Parameters:\n",
        "        digraph: Digraph instance\n",
        "            The graph on which to carry out the search\n",
        "        start: string\n",
        "            Building number at which to start\n",
        "        end: string\n",
        "            Building number at which to end\n",
        "        path: list composed of [[list of strings], int, int]\n",
        "            Represents the current path of nodes being traversed. Contains\n",
        "            a list of node names, total distance traveled, and total\n",
        "            distance outdoors.\n",
        "        max_dist_outdoors: int\n",
        "            Maximum distance spent outdoors on a path\n",
        "        best_dist: int\n",
        "            The smallest distance between the original start and end node\n",
        "            for the initial problem that you are trying to solve\n",
        "        best_path: list of strings\n",
        "            The shortest path found so far between the original start\n",
        "            and end node.\n",
        "\n",
        "    Returns:\n",
        "        A tuple with the shortest-path from start to end, represented by\n",
        "        a list of building numbers (in strings), [n_1, n_2, ..., n_k],\n",
        "        where there exists an edge from n_i to n_(i+1) in digraph,\n",
        "        for all 1 <= i < k and the distance of that path.\n",
        "\n",
        "        If there exists no path that satisfies max_total_dist and\n",
        "        max_dist_outdoors constraints, then return None.\n",
        "    \"\"\"\n",
        "    # TODO\n",
        "    pass"
      ],
      "metadata": {
        "id": "nT-qwRlA20xz"
      },
      "execution_count": null,
      "outputs": []
    },
    {
      "cell_type": "markdown",
      "source": [
        "### Implement directed_dfs"
      ],
      "metadata": {
        "id": "LqexlN2VUKwS"
      }
    },
    {
      "cell_type": "code",
      "source": [
        "# Problem 3c: Implement directed_dfs\n",
        "def directed_dfs(digraph, start, end, max_total_dist, max_dist_outdoors):\n",
        "    \"\"\"\n",
        "    Finds the shortest path from start to end using a directed depth-first\n",
        "    search. The total distance traveled on the path must not\n",
        "    exceed max_total_dist, and the distance spent outdoors on this path must\n",
        "    not exceed max_dist_outdoors.\n",
        "\n",
        "    Parameters:\n",
        "        digraph: Digraph instance\n",
        "            The graph on which to carry out the search\n",
        "        start: string\n",
        "            Building number at which to start\n",
        "        end: string\n",
        "            Building number at which to end\n",
        "        max_total_dist: int\n",
        "            Maximum total distance on a path\n",
        "        max_dist_outdoors: int\n",
        "            Maximum distance spent outdoors on a path\n",
        "\n",
        "    Returns:\n",
        "        The shortest-path from start to end, represented by\n",
        "        a list of building numbers (in strings), [n_1, n_2, ..., n_k],\n",
        "        where there exists an edge from n_i to n_(i+1) in digraph,\n",
        "        for all 1 <= i < k\n",
        "\n",
        "        If there exists no path that satisfies max_total_dist and\n",
        "        max_dist_outdoors constraints, then raises a ValueError.\n",
        "    \"\"\"\n",
        "    # TODO\n",
        "    pass"
      ],
      "metadata": {
        "id": "3Yitb-RoUIj7"
      },
      "execution_count": null,
      "outputs": []
    },
    {
      "cell_type": "markdown",
      "source": [
        "### Test get_best_path and directed_dfs"
      ],
      "metadata": {
        "id": "FF6wy9JPUWhN"
      }
    },
    {
      "cell_type": "code",
      "source": [
        "# ================================================================\n",
        "# Begin tests -- you do not need to modify anything below this line\n",
        "# ================================================================\n",
        "\n",
        "class Ps2Test(unittest.TestCase):\n",
        "    LARGE_DIST = 99999\n",
        "\n",
        "    def setUp(self):\n",
        "        self.graph = load_map(\"mit_map.txt\")\n",
        "\n",
        "    def test_load_map_basic(self):\n",
        "        self.assertTrue(isinstance(self.graph, Digraph))\n",
        "        self.assertEqual(len(self.graph.nodes), 37)\n",
        "        all_edges = []\n",
        "        for _, edges in self.graph.edges.items():\n",
        "            all_edges += edges  # edges must be dict of node -> list of edges\n",
        "        all_edges = set(all_edges)\n",
        "        self.assertEqual(len(all_edges), 129)\n",
        "\n",
        "    def _print_path_description(self, start, end, total_dist, outdoor_dist):\n",
        "        constraint = \"\"\n",
        "        if outdoor_dist != Ps2Test.LARGE_DIST:\n",
        "            constraint = \"without walking more than {}m outdoors\".format(\n",
        "                outdoor_dist)\n",
        "        if total_dist != Ps2Test.LARGE_DIST:\n",
        "            if constraint:\n",
        "                constraint += ' or {}m total'.format(total_dist)\n",
        "            else:\n",
        "                constraint = \"without walking more than {}m total\".format(\n",
        "                    total_dist)\n",
        "\n",
        "        print(\"------------------------\")\n",
        "        print(\"Shortest path from Building {} to {} {}\".format(\n",
        "            start, end, constraint))\n",
        "\n",
        "    def _test_path(self,\n",
        "                   expectedPath,\n",
        "                   total_dist=LARGE_DIST,\n",
        "                   outdoor_dist=LARGE_DIST):\n",
        "        start, end = expectedPath[0], expectedPath[-1]\n",
        "        self._print_path_description(start, end, total_dist, outdoor_dist)\n",
        "        dfsPath = directed_dfs(self.graph, start, end, total_dist, outdoor_dist)\n",
        "        print(\"Expected: \", expectedPath)\n",
        "        print(\"DFS: \", dfsPath)\n",
        "        self.assertEqual(expectedPath, dfsPath)\n",
        "\n",
        "    def _test_impossible_path(self,\n",
        "                              start,\n",
        "                              end,\n",
        "                              total_dist=LARGE_DIST,\n",
        "                              outdoor_dist=LARGE_DIST):\n",
        "        self._print_path_description(start, end, total_dist, outdoor_dist)\n",
        "        with self.assertRaises(ValueError):\n",
        "            directed_dfs(self.graph, start, end, total_dist, outdoor_dist)\n",
        "\n",
        "    def test_path_one_step(self):\n",
        "        self._test_path(expectedPath=['32', '56'])\n",
        "\n",
        "    def test_path_no_outdoors(self):\n",
        "        self._test_path(\n",
        "            expectedPath=['32', '36', '26', '16', '56'], outdoor_dist=0)\n",
        "\n",
        "    def test_path_multi_step(self):\n",
        "        self._test_path(expectedPath=['2', '3', '7', '9'])\n",
        "\n",
        "    def test_path_multi_step_no_outdoors(self):\n",
        "        self._test_path(\n",
        "            expectedPath=['2', '4', '10', '13', '9'], outdoor_dist=0)\n",
        "\n",
        "    def test_path_multi_step2(self):\n",
        "        self._test_path(expectedPath=['1', '4', '12', '32'])\n",
        "\n",
        "    def test_path_multi_step_no_outdoors2(self):\n",
        "        self._test_path(\n",
        "            expectedPath=['1', '3', '10', '4', '12', '24', '34', '36', '32'],\n",
        "            outdoor_dist=0)\n",
        "\n",
        "    def test_impossible_path1(self):\n",
        "        self._test_impossible_path('8', '50', outdoor_dist=0)\n",
        "\n",
        "    def test_impossible_path2(self):\n",
        "        self._test_impossible_path('10', '32', total_dist=100)\n",
        "\n",
        "\n",
        "if __name__ == \"__main__\":\n",
        "    unittest.main(argv=[''], exit=False)"
      ],
      "metadata": {
        "id": "ozwszPnUwO9F"
      },
      "execution_count": null,
      "outputs": []
    }
  ]
}